{
 "cells": [
  {
   "cell_type": "code",
   "execution_count": 1,
   "metadata": {},
   "outputs": [],
   "source": [
    "# empty doc list\n",
    "doc_complete = []\n",
    "\n",
    "with open (\"data.txt\", \"r\") as myfile:\n",
    "    data=myfile.readlines()\n",
    "\n",
    "#doc1 = \"YOUR RESPONSIBILITIES        Develop, extend and maintain various Backend and RESTful APIs that serves various digital channels;    Cooperate closely with Data, Marketing and BI teams inside squads to build and integrate Data-centric products into the backend, e.g. machine learning end-points or recommendation engines.        SKILLS AND QUALIFICATIONS        You are a fast learner, with a degree in software engineering or related fields;    You have deep knowledge of one or more common languages, e.g. Python, PHP, Java or Go;    You own your tasks and are comfortable working in a fast-paced environment within small and talented teams;    Experience with Data stacks, microservices or front-end technologies is a big plus.       '\"\n",
    "#doc2 = \"We are looking for senior, full-stack software developers that above all else, are personable, purpose driven and collaborative; those who take pride in delivering quality software and have a passion for getting things done.      Given our DevOps culture, you will be responsible not only for the design and implementation of features across our suite of products using C#, JavaScript and SQL but also helping ensuring our systems are running like well-oiled machines.    Additionally, you will be required to:       Understand and translate user requirements into pragmatic and effective technical solutions    Write unit and integration tests and perform code reviews    Continuously explore opportunities to improve our development and operational processes to  deliver value to our customers faster!    Work hand-in-hand with our support team to resolve customer issues if escalation is required        What you will need:     In order to hit the ground running, you need to have:       Strong backend development skills in C# and SQL Server (5+ years)    Solid front-end development experience working with modern JavaScript frameworks (ideally AngularJS)    Great verbal and written communication skills    A solid sense of ownership and focus on delivering quality solutions    An understanding of secure development practices        What will help:     While not essential, bonus points will be awarded to those with:       Agile software delivery experience    TypeScript and/or Angular (2+) skills    Cloud development experience (ideally Azure)    Experience working in continuous delivery environment    Knowledge of, or DevOps expertise        Other details:     We pay commensurate with your skills and experience and also allow you to take your birthday off!    Only Australian citizens or permanent residents can be considered for this role.\"\n",
    "#doc3 = \"YOUR RESPONSIBILITIES        Develop, extend and maintain various Backend and RESTful APIs that serves various digital channels;    Cooperate closely with Data, Marketing and BI teams inside squads to build and integrate Data-centric products into the backend, e.g. machine learning end-points or recommendation engines.        SKILLS AND QUALIFICATIONS        You are a fast learner, with a degree in software engineering or related fields;    You have deep knowledge of one or more common languages, e.g. Python, PHP, Java or Go;    You own your tasks and are comfortable working in a fast-paced environment within small and talented teams;    Experience with Data stacks, microservices or front-end technologies is a big plus.\"\n",
    "#doc4 = \"Become part of American Express&rsquo;s digital enterprise evolution by joining the American Express Technology team!  In Merchant Interactive, we are all about delighting our Merchants&rsquo; interaction with American Express.  We are constantly reimagining the possibilities for servicing merchants. This group is nimble, creative and empowered to shape the merchant&rsquo;s digital landscape. We create robust API Portals for public and internal developers around the world through the creation of amazing user experiences for our developer communities. You will be part of a fast-paced Agile team building responsive solutions designed to simplify access to the Amex Platform.    We need a bright and collaborative Senior Full Stack Software Engineer to transform and deliver our interactive merchant platform.    There are hundreds of opportunities to make your mark on technology and life at American Express.  Taking your place as a core member of an agile team driving the latest development practices your responsibilities will include:       Leading a team of engineers that delivers knowledge management solutions to businesses worldwide    Mentoring junior engineering staff    Writing code and unit tests, working with API specs and automation    Developing microservices using Java and deploying them on enterprise cloud    Developing advanced web components in Angular 2 for the portal and provide an intuitive end user experience    Capability tuning across browsers and mobile devices    Troubleshooting issues and working with product support teams to resolve problems and perform root cause analysis    Working closely with Product Owners in researching and prototyping new capabilities that improve the overall user experience    Identifying opportunities for adopting new technologies         Qualifications       Our Software Engineers not only understand how technology works, but how that technology intersects with the people who count on it every day.     The ideal candidate will have a strong understanding of and proven background in responsive web development using technologies such as: React, Angular 2, Bootstrap, Java, Databases, CSS, and HTML.      Also:       Advanced User Experience development skills in creating dynamic and engaging web components.    Hands-on expertise with responsive web application design and development    Bachelor&rsquo;s Degree or Master's Degree in computer science, computer science engineering, or related field preferred    Preferred experience React, Angular 2, Bootstrap and Java    Provable experience in developing web components using: HTML, CSS, JavaScript, Spring MVC, and Open Source sub-components    Excellent written and oral communication skills     Collaborative work ethics and ability to work in a team-oriented culture     Ability to demonstrate sound judgment and execute against deliverables under deadlines and competing priorities     Highly focused, organized, and detail-oriented    Passionate about creating great technology products and is always looking for creative &amp; innovative solutions to meet or exceed our business partners&rsquo; needs     Strong leadership skills &amp; ability to collaborate across development portfolios to drive results    Strong technical aptitude with an intense desire to learn new skills and industry trends     Demonstrated experience in Agile development, application design, software development, and automated testing (Selenium, Junit etc.)    Demonstrated experience using CI/CD tools such as Jenkins, XLR, Sonar, Selenium, Chef etc.    Experience with content publishing platforms would be a plus       Today, innovative ideas, insight and new perspectives are at the core of how we create a more powerful, personal and fulfilling experience for all our customers. So if you&rsquo;re interested in a career creating breakthrough software and making an impact on an audience of millions, look no further.\"\n",
    "#doc5 = \"We are looking for a Python developer (m / w) in full time, to expand our SCRUM team.  The most important working area is our Deamon, which is responsible for the administration of the individual services on the hardware-systems. Your work is the interface between our webinterface and the hardware systems in our global data centers. For us, it is important that you work on your own responsibility and contribute to the team with ideas and creativity.    You should be experienced in the following areas:       Python 2.7 and Python 3.x    Twisted Framework    Databases (MySQL, Redis, MongoDB)       Nice to have:       System administration know-how    Linux and Windows servers    Web development (HTML, CSS, JS, JQuery, AngularJS)    PHP 7.0+ (CakePHP)\"\n",
    "\n",
    "# compile documents\n",
    "#doc_complete = [doc1, doc2, doc3, doc4, doc5]\n",
    "#\n"
   ]
  },
  {
   "cell_type": "code",
   "execution_count": 2,
   "metadata": {},
   "outputs": [],
   "source": [
    "from nltk.corpus import stopwords \n",
    "from nltk.stem.wordnet import WordNetLemmatizer\n",
    "import string, nltk\n",
    "from nltk.corpus import wordnet as wn"
   ]
  },
  {
   "cell_type": "code",
   "execution_count": 3,
   "metadata": {
    "scrolled": true
   },
   "outputs": [],
   "source": [
    "stop = set(stopwords.words('english'))\n",
    "exclude = set(string.punctuation) \n",
    "lemma = WordNetLemmatizer()\n",
    "def clean(doc):\n",
    "    stop_free = \" \".join([i for i in doc.lower().split() if i not in stop])\n",
    "    punc_free = ''.join(ch for ch in stop_free if ch not in exclude)\n",
    "    normalized = \" \".join(lemma.lemmatize(word) for word in punc_free.split())\n",
    "    normalized2 = \" \".join([i for i in normalized.lower().split() if i not in wn.words()])\n",
    "    return normalized2\n",
    "\n"
   ]
  },
  {
   "cell_type": "code",
   "execution_count": null,
   "metadata": {},
   "outputs": [],
   "source": []
  },
  {
   "cell_type": "code",
   "execution_count": 4,
   "metadata": {},
   "outputs": [],
   "source": [
    "\n",
    "doc_clean = [clean(doc).split() for doc in doc_complete] "
   ]
  },
  {
   "cell_type": "code",
   "execution_count": 5,
   "metadata": {},
   "outputs": [
    {
     "data": {
      "text/plain": [
       "[['backend',\n",
       "  'datacentric',\n",
       "  'backend',\n",
       "  'eg',\n",
       "  'eg',\n",
       "  'php',\n",
       "  'fastpaced',\n",
       "  'microservices',\n",
       "  'frontend'],\n",
       " ['fullstack',\n",
       "  'else',\n",
       "  'delivering',\n",
       "  'devops',\n",
       "  'javascript',\n",
       "  'sql',\n",
       "  'ensuring',\n",
       "  'welloiled',\n",
       "  'to',\n",
       "  'handinhand',\n",
       "  'backend',\n",
       "  'sql',\n",
       "  'frontend',\n",
       "  'javascript',\n",
       "  'angularjs',\n",
       "  'delivering',\n",
       "  'awarded',\n",
       "  'with',\n",
       "  'andor',\n",
       "  'of',\n",
       "  'devops'],\n",
       " ['backend',\n",
       "  'datacentric',\n",
       "  'backend',\n",
       "  'eg',\n",
       "  'eg',\n",
       "  'php',\n",
       "  'fastpaced',\n",
       "  'microservices',\n",
       "  'frontend'],\n",
       " ['expressrsquos',\n",
       "  'delighting',\n",
       "  'merchantsrsquo',\n",
       "  'reimagining',\n",
       "  'merchantrsquos',\n",
       "  'api',\n",
       "  'fastpaced',\n",
       "  'delivers',\n",
       "  'mentoring',\n",
       "  'api',\n",
       "  'microservices',\n",
       "  'deploying',\n",
       "  'troubleshooting',\n",
       "  'researching',\n",
       "  'prototyping',\n",
       "  'identifying',\n",
       "  'adopting',\n",
       "  'intersects',\n",
       "  'creating',\n",
       "  'handson',\n",
       "  'bachelorrsquos',\n",
       "  'javascript',\n",
       "  'mvc',\n",
       "  'subcomponents',\n",
       "  'teamoriented',\n",
       "  'competing',\n",
       "  'detailoriented',\n",
       "  'creating',\n",
       "  'partnersrsquo',\n",
       "  'junit',\n",
       "  'etc',\n",
       "  'cicd',\n",
       "  'jenkins',\n",
       "  'xlr',\n",
       "  'etc',\n",
       "  'would',\n",
       "  'fulfilling',\n",
       "  'yoursquore',\n",
       "  'creating'],\n",
       " ['deamon',\n",
       "  'hardwaresystems',\n",
       "  'webinterface',\n",
       "  '3x',\n",
       "  'mysql',\n",
       "  'redis',\n",
       "  'mongodb',\n",
       "  'knowhow',\n",
       "  'jquery',\n",
       "  'angularjs',\n",
       "  'php',\n",
       "  'cakephp']]"
      ]
     },
     "execution_count": 5,
     "metadata": {},
     "output_type": "execute_result"
    }
   ],
   "source": [
    "doc_clean"
   ]
  },
  {
   "cell_type": "code",
   "execution_count": 6,
   "metadata": {},
   "outputs": [
    {
     "name": "stderr",
     "output_type": "stream",
     "text": [
      "d:\\Anaconda3\\lib\\site-packages\\gensim\\utils.py:1197: UserWarning: detected Windows; aliasing chunkize to chunkize_serial\n",
      "  warnings.warn(\"detected Windows; aliasing chunkize to chunkize_serial\")\n"
     ]
    }
   ],
   "source": [
    "# Importing Gensim\n",
    "import gensim\n",
    "from gensim import corpora\n",
    "\n",
    "# Creating the term dictionary of our courpus, where every unique term is assigned an index. \n",
    "dictionary = corpora.Dictionary(doc_clean)\n",
    "\n",
    "# Converting list of documents (corpus) into Document Term Matrix using dictionary prepared above.\n",
    "doc_term_matrix = [dictionary.doc2bow(doc) for doc in doc_clean]"
   ]
  },
  {
   "cell_type": "code",
   "execution_count": 7,
   "metadata": {},
   "outputs": [
    {
     "name": "stdout",
     "output_type": "stream",
     "text": [
      "Dictionary(64 unique tokens: ['backend', 'datacentric', 'eg', 'fastpaced', 'frontend']...)\n"
     ]
    }
   ],
   "source": [
    "print(dictionary)"
   ]
  },
  {
   "cell_type": "code",
   "execution_count": 8,
   "metadata": {},
   "outputs": [
    {
     "data": {
      "text/plain": [
       "[[(0, 2), (1, 1), (2, 2), (3, 1), (4, 1), (5, 1), (6, 1)],\n",
       " [(0, 1),\n",
       "  (4, 1),\n",
       "  (7, 1),\n",
       "  (8, 1),\n",
       "  (9, 1),\n",
       "  (10, 2),\n",
       "  (11, 2),\n",
       "  (12, 1),\n",
       "  (13, 1),\n",
       "  (14, 1),\n",
       "  (15, 1),\n",
       "  (16, 2),\n",
       "  (17, 1),\n",
       "  (18, 2),\n",
       "  (19, 1),\n",
       "  (20, 1),\n",
       "  (21, 1)],\n",
       " [(0, 2), (1, 1), (2, 2), (3, 1), (4, 1), (5, 1), (6, 1)],\n",
       " [(3, 1),\n",
       "  (5, 1),\n",
       "  (16, 1),\n",
       "  (22, 1),\n",
       "  (23, 2),\n",
       "  (24, 1),\n",
       "  (25, 1),\n",
       "  (26, 1),\n",
       "  (27, 3),\n",
       "  (28, 1),\n",
       "  (29, 1),\n",
       "  (30, 1),\n",
       "  (31, 1),\n",
       "  (32, 2),\n",
       "  (33, 1),\n",
       "  (34, 1),\n",
       "  (35, 1),\n",
       "  (36, 1),\n",
       "  (37, 1),\n",
       "  (38, 1),\n",
       "  (39, 1),\n",
       "  (40, 1),\n",
       "  (41, 1),\n",
       "  (42, 1),\n",
       "  (43, 1),\n",
       "  (44, 1),\n",
       "  (45, 1),\n",
       "  (46, 1),\n",
       "  (47, 1),\n",
       "  (48, 1),\n",
       "  (49, 1),\n",
       "  (50, 1),\n",
       "  (51, 1),\n",
       "  (52, 1),\n",
       "  (53, 1)],\n",
       " [(6, 1),\n",
       "  (8, 1),\n",
       "  (54, 1),\n",
       "  (55, 1),\n",
       "  (56, 1),\n",
       "  (57, 1),\n",
       "  (58, 1),\n",
       "  (59, 1),\n",
       "  (60, 1),\n",
       "  (61, 1),\n",
       "  (62, 1),\n",
       "  (63, 1)]]"
      ]
     },
     "execution_count": 8,
     "metadata": {},
     "output_type": "execute_result"
    }
   ],
   "source": [
    "doc_term_matrix"
   ]
  },
  {
   "cell_type": "code",
   "execution_count": 9,
   "metadata": {},
   "outputs": [],
   "source": [
    "# Creating the object for LDA model using gensim library\n",
    "Lda = gensim.models.ldamodel.LdaModel\n",
    "\n"
   ]
  },
  {
   "cell_type": "code",
   "execution_count": 14,
   "metadata": {},
   "outputs": [],
   "source": [
    "# Running and Trainign LDA model on the document term matrix.\n",
    "ldamodel = Lda(doc_term_matrix, num_topics=5, id2word = dictionary, passes=50)"
   ]
  },
  {
   "cell_type": "code",
   "execution_count": 15,
   "metadata": {},
   "outputs": [
    {
     "name": "stdout",
     "output_type": "stream",
     "text": [
      "LdaModel(num_terms=64, num_topics=5, decay=0.5, chunksize=2000)\n"
     ]
    }
   ],
   "source": [
    "print(ldamodel)"
   ]
  },
  {
   "cell_type": "code",
   "execution_count": 16,
   "metadata": {},
   "outputs": [
    {
     "name": "stdout",
     "output_type": "stream",
     "text": [
      "<class 'gensim.models.ldamodel.LdaModel'>\n"
     ]
    }
   ],
   "source": [
    "print(Lda)"
   ]
  },
  {
   "cell_type": "code",
   "execution_count": 18,
   "metadata": {},
   "outputs": [
    {
     "name": "stdout",
     "output_type": "stream",
     "text": [
      "[(0, '0.016*\"php\" + 0.016*\"angularjs\" + 0.016*\"knowhow\"'), (1, '0.016*\"php\" + 0.016*\"angularjs\" + 0.016*\"knowhow\"'), (2, '0.065*\"javascript\" + 0.065*\"sql\" + 0.065*\"devops\"'), (3, '0.050*\"creating\" + 0.034*\"api\" + 0.034*\"etc\"'), (4, '0.136*\"backend\" + 0.136*\"eg\" + 0.071*\"php\"')]\n"
     ]
    }
   ],
   "source": [
    "print(ldamodel.print_topics(num_topics=5, num_words=3))"
   ]
  },
  {
   "cell_type": "code",
   "execution_count": null,
   "metadata": {},
   "outputs": [],
   "source": []
  },
  {
   "cell_type": "code",
   "execution_count": null,
   "metadata": {},
   "outputs": [],
   "source": []
  },
  {
   "cell_type": "code",
   "execution_count": null,
   "metadata": {},
   "outputs": [],
   "source": []
  },
  {
   "cell_type": "code",
   "execution_count": null,
   "metadata": {},
   "outputs": [],
   "source": [
    "\n"
   ]
  },
  {
   "cell_type": "code",
   "execution_count": null,
   "metadata": {},
   "outputs": [],
   "source": []
  }
 ],
 "metadata": {
  "kernelspec": {
   "display_name": "Python 3",
   "language": "python",
   "name": "python3"
  },
  "language_info": {
   "codemirror_mode": {
    "name": "ipython",
    "version": 3
   },
   "file_extension": ".py",
   "mimetype": "text/x-python",
   "name": "python",
   "nbconvert_exporter": "python",
   "pygments_lexer": "ipython3",
   "version": "3.6.5"
  }
 },
 "nbformat": 4,
 "nbformat_minor": 2
}
